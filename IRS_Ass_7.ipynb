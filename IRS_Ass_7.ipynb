{
  "nbformat": 4,
  "nbformat_minor": 0,
  "metadata": {
    "colab": {
      "provenance": [],
      "authorship_tag": "ABX9TyO4tu54e7uvkjGdNFJ9t6p8",
      "include_colab_link": true
    },
    "kernelspec": {
      "name": "python3",
      "display_name": "Python 3"
    },
    "language_info": {
      "name": "python"
    }
  },
  "cells": [
    {
      "cell_type": "markdown",
      "metadata": {
        "id": "view-in-github",
        "colab_type": "text"
      },
      "source": [
        "<a href=\"https://colab.research.google.com/github/2203A51740/IRS/blob/main/IRS_Ass_7.ipynb\" target=\"_parent\"><img src=\"https://colab.research.google.com/assets/colab-badge.svg\" alt=\"Open In Colab\"/></a>"
      ]
    },
    {
      "cell_type": "code",
      "source": [
        "!pip install nltk==3.8.1\n",
        "\n",
        "import nltk\n",
        "from nltk.tokenize import word_tokenize\n",
        "from nltk import pos_tag\n",
        "nltk.download('punkt')\n",
        "nltk.download('averaged_perceptron_tagger')\n",
        "nltk.download('tagsets')\n",
        "# Sample text\n",
        "text = \"Google Colab is a free Jupyter notebook environment that runs in the cloud.\"\n",
        "token = word_tokenize(text)\n",
        "\n",
        "# Apply POS tagging\n",
        "tagged_tokens = pos_tag(token)\n",
        "\n",
        "# Print the tagged tokens\n",
        "print(tagged_tokens)\n",
        "# Analyze the tagged output\n",
        "for word, tag in tagged_tokens:\n",
        "    print(f'{word}: {tag}')"
      ],
      "metadata": {
        "colab": {
          "base_uri": "https://localhost:8080/"
        },
        "id": "mwbvINaAj3My",
        "outputId": "bf294f0a-9abd-4326-ad53-179a317c5090"
      },
      "execution_count": 1,
      "outputs": [
        {
          "output_type": "stream",
          "name": "stdout",
          "text": [
            "Requirement already satisfied: nltk==3.8.1 in /usr/local/lib/python3.11/dist-packages (3.8.1)\n",
            "Requirement already satisfied: click in /usr/local/lib/python3.11/dist-packages (from nltk==3.8.1) (8.1.8)\n",
            "Requirement already satisfied: joblib in /usr/local/lib/python3.11/dist-packages (from nltk==3.8.1) (1.4.2)\n",
            "Requirement already satisfied: regex>=2021.8.3 in /usr/local/lib/python3.11/dist-packages (from nltk==3.8.1) (2024.11.6)\n",
            "Requirement already satisfied: tqdm in /usr/local/lib/python3.11/dist-packages (from nltk==3.8.1) (4.67.1)\n"
          ]
        },
        {
          "output_type": "stream",
          "name": "stderr",
          "text": [
            "[nltk_data] Downloading package punkt to /root/nltk_data...\n",
            "[nltk_data]   Package punkt is already up-to-date!\n",
            "[nltk_data] Downloading package averaged_perceptron_tagger to\n",
            "[nltk_data]     /root/nltk_data...\n",
            "[nltk_data]   Package averaged_perceptron_tagger is already up-to-\n",
            "[nltk_data]       date!\n",
            "[nltk_data] Downloading package tagsets to /root/nltk_data...\n",
            "[nltk_data]   Package tagsets is already up-to-date!\n"
          ]
        },
        {
          "output_type": "stream",
          "name": "stdout",
          "text": [
            "[('Google', 'NNP'), ('Colab', 'NNP'), ('is', 'VBZ'), ('a', 'DT'), ('free', 'JJ'), ('Jupyter', 'NNP'), ('notebook', 'NN'), ('environment', 'NN'), ('that', 'WDT'), ('runs', 'VBZ'), ('in', 'IN'), ('the', 'DT'), ('cloud', 'NN'), ('.', '.')]\n",
            "Google: NNP\n",
            "Colab: NNP\n",
            "is: VBZ\n",
            "a: DT\n",
            "free: JJ\n",
            "Jupyter: NNP\n",
            "notebook: NN\n",
            "environment: NN\n",
            "that: WDT\n",
            "runs: VBZ\n",
            "in: IN\n",
            "the: DT\n",
            "cloud: NN\n",
            ".: .\n"
          ]
        }
      ]
    }
  ]
}